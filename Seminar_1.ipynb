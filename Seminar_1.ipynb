{
 "cells": [
  {
   "cell_type": "markdown",
   "metadata": {},
   "source": [
    "# Работа с Git\n",
    "\n",
    "** [Установка git](https://git-scm.com/book/en/v2/Getting-Started-Installing-Git) **\n",
    "\n",
    "*$ sudo apt-get install git-all*\n",
    "\n",
    "**Если не получилось**, то попробуйте так:\n",
    "\n",
    "*sudo apt-get purge runit*\n",
    "\n",
    "*sudo apt-get purge git-all*\n",
    "\n",
    "*sudo apt-get purge git*\n",
    "\n",
    "*sudo apt-get autoremove*\n",
    "\n",
    "*sudo apt update*\n",
    "\n",
    "*sudo apt-get install git-daemon-sysvinit*\n",
    "\n",
    "*sudo apt-get install git-all*\n",
    "\n",
    "**Создаём акаунт** на [GitHub](https://github.com/)\n",
    "\n",
    "Создаём у себя в профиле новый репозиторий\n",
    "\n",
    "Ссылка на репозиторий нашего курса: https://github.com/arinaaageeva/python_nlp_2.git\n",
    "\n",
    "**Создаём папочку** у себя на компьютере\n",
    "\n",
    "Запускаем командную строку и переходим в созданную нами папку с помощью команды *cd*\n",
    "\n",
    "Выполняем команду: *git init*\n",
    "\n",
    "Связываем репозиторий на GitHub с локальным (папочкой на компьютере):\n",
    "\n",
    "*git remote add origin <url>*  \n",
    "\n",
    "Что бы добавить некоторый объект в репозиторий выполняем: \n",
    "\n",
    "*git add <объект>*\n",
    "\n",
    "*git commit -m '<ваш коментарий>'*\n",
    "\n",
    "*git push -u origin master*\n",
    "\n",
    "**Клонируем репозиторий** на компьютер:\n",
    "\n",
    "*git clone <url>*"
   ]
  },
  {
   "cell_type": "markdown",
   "metadata": {},
   "source": [
    "# Введение в Python\n",
    "\n",
    "## Система типов\n",
    "\n",
    "**Язык программирования** – формальная знаковая система, предназначенная для записи компьютерных программ. Язык программирования определяет набор лексических, синтаксических и семантических правил, задающих внешний вид программы и действия, которые выполнит исполнитель (компьютер) под ее управлением.\n",
    "\n",
    "Современные цифровые компьютеры являются двоичными и данные хранят в двоичном (бинарном) коде (хотя возможны реализации и в других системах счисления). Эти данные как правило отражают информацию из реального мира (имена, банковские счета, измерения и др.), представляющую высокоуровневые концепции.\n",
    "\n",
    "Особая система, по которой данные организуются в программе – это **система типов языка программирования**. Языки могут быть классифицированы как системы со **статической типизацией** и языки с **динамической типизацией**.\n",
    "\n",
    "При **статической типизации** переменная, параметр программы, возвращаемое значение функции связывается с типом в момент объявления и тип не может быть изменён позже. Примеры статически типизированных языков – Ада, С++, Java, Паскаль. Статически-типизированные языки могут быть в дальнейшем подразделены на языки с обязательной деклара-\n",
    "цией, где каждая переменная и объявление функции имеет обязательное объявление типа, и языки с выводимыми типами.\n",
    "\n",
    "Плюс статической типизации: хороша для написания сложного, но быстрого кода; многие ошибки исключаются уже на стадии компиляции.\n",
    "\n",
    "Минус статической типизации: тяжело работать с данными из внешних источников.\n",
    "\n",
    "При **динамической типизации** переменная связывается с типом в момент присваивания значения, а не в момент объявления переменной. Таким образом, в различных участках программы одна и та же переменная мо-\n",
    "жет принимать значения разных типов. Примеры языков с динамической типизацией – **Python**, Ruby, PHP, Perl, JavaScript, Lisp.\n",
    "\n",
    "Плюсы динамической типизации: (1) упрощается написание несложных программ; (2) иногда требуется работать с данными переменного типа (например, функция поиска подстроки возвращает позицию найденного символа или маркер \"не найдено\"); (3) облегчается работа с СУБД, которые принципиально возвращают информацию в \"динамически типизированном\" виде.\n",
    "\n",
    "Минусы динамической типизации: (1) не позволяет заметить при компиляции простые \"ошибки по недосмотру\" – требуется как минимум выполнить данный участок кода; (2) снижение производительности из-за трат процессорного времени на динамическую проверку типа."
   ]
  },
  {
   "cell_type": "markdown",
   "metadata": {},
   "source": [
    "## Базовые типы данных"
   ]
  },
  {
   "cell_type": "markdown",
   "metadata": {},
   "source": [
    "### Числа"
   ]
  },
  {
   "cell_type": "code",
   "execution_count": 17,
   "metadata": {
    "collapsed": false
   },
   "outputs": [
    {
     "name": "stdout",
     "output_type": "stream",
     "text": [
      "a=1.00000i\n"
     ]
    }
   ],
   "source": [
    "a=1\n",
    "print('a=%.5fi'%a)"
   ]
  },
  {
   "cell_type": "code",
   "execution_count": 1,
   "metadata": {
    "collapsed": false
   },
   "outputs": [
    {
     "name": "stdout",
     "output_type": "stream",
     "text": [
      "a = 1 <class 'int'>\n",
      "a = 1 <class 'float'>\n",
      "a = 1.0+1.0i <class 'complex'>\n"
     ]
    }
   ],
   "source": [
    "a = 1\n",
    "print('a = %d'%a, type(a))\n",
    "a = 1.0\n",
    "print('a = %d'%a, type(a))\n",
    "a = complex(1, 1)\n",
    "print('a = %.1f+%.1fi'%(a.real, a.imag), type(a))"
   ]
  },
  {
   "cell_type": "markdown",
   "metadata": {},
   "source": [
    "**Пример приведение типов**"
   ]
  },
  {
   "cell_type": "code",
   "execution_count": 3,
   "metadata": {
    "collapsed": false
   },
   "outputs": [
    {
     "name": "stdout",
     "output_type": "stream",
     "text": [
      "a = 1 <class 'int'>\n",
      "b = 3 <class 'int'>\n",
      "c = 0.3333333333333333 <class 'float'>\n"
     ]
    }
   ],
   "source": [
    "a = 1\n",
    "b = 3\n",
    "\n",
    "c = a/b\n",
    "\n",
    "print('a =', a, type(a))\n",
    "print('b =', b, type(b))\n",
    "print('c =', c, type(c))"
   ]
  },
  {
   "cell_type": "markdown",
   "metadata": {},
   "source": [
    "**\"Ошибки\" приведения типов**\n",
    "\n",
    "Равны ли *a* и *b*?"
   ]
  },
  {
   "cell_type": "code",
   "execution_count": 9,
   "metadata": {
    "collapsed": true
   },
   "outputs": [],
   "source": [
    "a = 0.3 \n",
    "b = 3 * 0.1 #питон считает с погрешностями десятичные числа"
   ]
  },
  {
   "cell_type": "code",
   "execution_count": 31,
   "metadata": {
    "collapsed": false
   },
   "outputs": [
    {
     "name": "stdout",
     "output_type": "stream",
     "text": [
      "0.8\n"
     ]
    }
   ],
   "source": [
    "print(8*0.1)"
   ]
  },
  {
   "cell_type": "markdown",
   "metadata": {},
   "source": [
    "Невероятно, но факт: Нет =)"
   ]
  },
  {
   "cell_type": "code",
   "execution_count": 6,
   "metadata": {
    "collapsed": false
   },
   "outputs": [
    {
     "data": {
      "text/plain": [
       "False"
      ]
     },
     "execution_count": 6,
     "metadata": {},
     "output_type": "execute_result"
    }
   ],
   "source": [
    "a == b"
   ]
  },
  {
   "cell_type": "code",
   "execution_count": 11,
   "metadata": {
    "collapsed": false
   },
   "outputs": [
    {
     "name": "stdout",
     "output_type": "stream",
     "text": [
      "a = 0.3\n",
      "b = 0.30000000000000004\n"
     ]
    }
   ],
   "source": [
    "print('a =', a)\n",
    "print('b =', b)"
   ]
  },
  {
   "cell_type": "markdown",
   "metadata": {},
   "source": [
    "**Стандартные опирации с числами**\n",
    "\n",
    "Кроме деления (/) и умножения (\\*), очевидно, ещё можно производить сложение (+) и вычитание (-).\n",
    "\n",
    "А также:"
   ]
  },
  {
   "cell_type": "code",
   "execution_count": 12,
   "metadata": {
    "collapsed": false
   },
   "outputs": [
    {
     "name": "stdout",
     "output_type": "stream",
     "text": [
      "a = 0 <class 'int'>\n"
     ]
    }
   ],
   "source": [
    "#деление без остатка\n",
    "a = 1//3\n",
    "print('a =', a, type(a))"
   ]
  },
  {
   "cell_type": "code",
   "execution_count": 14,
   "metadata": {
    "collapsed": false
   },
   "outputs": [
    {
     "name": "stdout",
     "output_type": "stream",
     "text": [
      "a = 1 <class 'int'>\n"
     ]
    }
   ],
   "source": [
    "#остаток от деления\n",
    "a = 5%2\n",
    "print('a =', a, type(a))"
   ]
  },
  {
   "cell_type": "code",
   "execution_count": 15,
   "metadata": {
    "collapsed": false
   },
   "outputs": [
    {
     "name": "stdout",
     "output_type": "stream",
     "text": [
      "a = 25 <class 'int'>\n"
     ]
    }
   ],
   "source": [
    "#возведение в степень\n",
    "a = 5**2\n",
    "print('a =', a, type(a))"
   ]
  },
  {
   "cell_type": "markdown",
   "metadata": {},
   "source": [
    "Много других возможностей для работы с числами можно найти в модуле [math](https://docs.python.org/3/library/math.html) "
   ]
  },
  {
   "cell_type": "code",
   "execution_count": 17,
   "metadata": {
    "collapsed": false
   },
   "outputs": [
    {
     "name": "stdout",
     "output_type": "stream",
     "text": [
      "Pi = 3.141593\n",
      "sqrt(Pi) = 1.772454\n"
     ]
    }
   ],
   "source": [
    "import math \n",
    "\n",
    "pi_number = math.pi\n",
    "print('Pi = %.6f'%pi_number)\n",
    "\n",
    "sqrt_pi = math.sqrt(math.pi)\n",
    "print('sqrt(Pi) = %.6f'%sqrt_pi)"
   ]
  },
  {
   "cell_type": "markdown",
   "metadata": {},
   "source": [
    "### Логические переменные"
   ]
  },
  {
   "cell_type": "code",
   "execution_count": 36,
   "metadata": {
    "collapsed": false
   },
   "outputs": [
    {
     "data": {
      "text/plain": [
       "(True, False)"
      ]
     },
     "execution_count": 36,
     "metadata": {},
     "output_type": "execute_result"
    }
   ],
   "source": [
    "True, False"
   ]
  },
  {
   "cell_type": "code",
   "execution_count": 37,
   "metadata": {
    "collapsed": false
   },
   "outputs": [
    {
     "name": "stdout",
     "output_type": "stream",
     "text": [
      "1 == 0 - False\n",
      "1 > 0 - True\n",
      "1 != 0 - True\n"
     ]
    }
   ],
   "source": [
    "print('1 == 0 - %r\\n1 > 0 - %r\\n1 != 0 - %r'%(1 == 0, 1 > 0, 1 != 0))"
   ]
  },
  {
   "cell_type": "code",
   "execution_count": 38,
   "metadata": {
    "collapsed": false
   },
   "outputs": [
    {
     "name": "stdout",
     "output_type": "stream",
     "text": [
      "0 -> False\n",
      "1 -> True\n",
      "\n",
      "[] -> False\n",
      "[None] -> True\n",
      "\n"
     ]
    }
   ],
   "source": [
    "print('0 -> %r\\n1 -> %r\\n'%(bool(0), bool(1)))\n",
    "print('[] -> %r\\n[None] -> %r\\n'%(bool([]), bool([None])))"
   ]
  },
  {
   "cell_type": "markdown",
   "metadata": {},
   "source": [
    "### Списки\n",
    "\n",
    "-- упорядоченные по местоположению коллекции объектов произвольных типов, размер которых не ограничен"
   ]
  },
  {
   "cell_type": "code",
   "execution_count": 18,
   "metadata": {
    "collapsed": false
   },
   "outputs": [
    {
     "name": "stdout",
     "output_type": "stream",
     "text": [
      "[1, 'a', [2, 'b']] <class 'list'>\n",
      "Длинна списка - 3\n",
      "Нулевой элемент списка равен - 1 , а последний - [2, 'b']\n"
     ]
    }
   ],
   "source": [
    "my_list = [1, 'a', [2, 'b']]\n",
    "print(my_list, type(my_list))\n",
    "print('Длинна списка - %d'%len(my_list))\n",
    "print('Нулевой элемент списка равен -', my_list[0], ', а последний -', my_list[-1])"
   ]
  },
  {
   "cell_type": "markdown",
   "metadata": {},
   "source": [
    "**Срезы**"
   ]
  },
  {
   "cell_type": "code",
   "execution_count": 19,
   "metadata": {
    "collapsed": false
   },
   "outputs": [
    {
     "name": "stdout",
     "output_type": "stream",
     "text": [
      "Срез от 0 элемента до 2 второго (2ой не включается): [1, 'a']\n"
     ]
    }
   ],
   "source": [
    "print('Срез от 0 элемента до 2 второго (2ой не включается):', my_list[0:2]) "
   ]
  },
  {
   "cell_type": "markdown",
   "metadata": {},
   "source": [
    "Аналогично my_list[0:2] можно записать my_list[:2].\n",
    "\n",
    "Если номер левой границы среза опущен, то по уполчанию отсчет идет от начала списка т.е. от позиции 0.\n",
    "\n",
    "Если опущен номер правой границы (правая граница не включается при срезе), то по умолчанию берутся все элементы до конца списка."
   ]
  },
  {
   "cell_type": "code",
   "execution_count": 20,
   "metadata": {
    "collapsed": false
   },
   "outputs": [
    {
     "name": "stdout",
     "output_type": "stream",
     "text": [
      "Срез от 1 элемента до конца списка: ['a', [2, 'b']]\n"
     ]
    }
   ],
   "source": [
    "print('Срез от 1 элемента до конца списка:', my_list[1:]) "
   ]
  },
  {
   "cell_type": "markdown",
   "metadata": {},
   "source": [
    "Отрицательные индексы также работают."
   ]
  },
  {
   "cell_type": "code",
   "execution_count": 22,
   "metadata": {
    "collapsed": false
   },
   "outputs": [
    {
     "name": "stdout",
     "output_type": "stream",
     "text": [
      "Срез от первого с конца элемента (-1) до конца списка: [[2, 'b']]\n"
     ]
    }
   ],
   "source": [
    "print('Срез от первого с конца элемента (-1) до конца списка:', my_list[-1:])"
   ]
  },
  {
   "cell_type": "markdown",
   "metadata": {},
   "source": [
    "**Особенность оператора присваивания для списков**"
   ]
  },
  {
   "cell_type": "code",
   "execution_count": 26,
   "metadata": {
    "collapsed": false
   },
   "outputs": [
    {
     "name": "stdout",
     "output_type": "stream",
     "text": [
      "array2: [1, 2, 3]\n",
      "array2: [1, 4, 3]\n"
     ]
    }
   ],
   "source": [
    "array1 = [1, 2, 3]\n",
    "array2 = array1\n",
    "print('array2:', array2)\n",
    "\n",
    "array2[1] = 4\n",
    "print('array2:', array2)\n",
    "\n",
    "#чему равен array1?\n",
    "print('array1:', array1)"
   ]
  },
  {
   "cell_type": "markdown",
   "metadata": {},
   "source": [
    "Если хочется этого избежать, то можно воспользоваться методом *copy* или модулем [copy](https://docs.python.org/2/library/copy.html)"
   ]
  },
  {
   "cell_type": "code",
   "execution_count": null,
   "metadata": {
    "collapsed": true
   },
   "outputs": [],
   "source": [
    "array1 = [1, 2, 3]\n",
    "array2 = array1.copy()\n",
    "print('array2:', array2)\n",
    "\n",
    "array2[1] = 4\n",
    "print('array2:', array2)\n",
    "\n",
    "print('array1:', array1)"
   ]
  },
  {
   "cell_type": "markdown",
   "metadata": {},
   "source": [
    "**Опирации над списками**"
   ]
  },
  {
   "cell_type": "code",
   "execution_count": 29,
   "metadata": {
    "collapsed": false
   },
   "outputs": [
    {
     "name": "stdout",
     "output_type": "stream",
     "text": [
      "1. [1, 2, 3, 4]\n",
      "2. 4 [1, 2, 3]\n",
      "3. 2 [1, 3]\n",
      "4. [1, 3, 7, 5]\n",
      "5. None [1, 3, 5, 7]\n",
      "6. [1, 3, 5, 7] [1, 3, 7, 5]\n",
      "7. [5, 7, 3, 1]\n"
     ]
    }
   ],
   "source": [
    "array1 = [1, 2, 3]\n",
    "array1.append(4)\n",
    "print('1.', array1)\n",
    "print('2.', array1.pop(), array1)\n",
    "print('3.', array1.pop(1), array1)\n",
    "\n",
    "array1 = array1 + [7, 5] # array1 += [7, 5]\n",
    "print('4.', array1)\n",
    "\n",
    "print('5.', array1.sort(), array1)\n",
    "array1 = [1, 3, 7, 5]\n",
    "print('6.', sorted(array1), array1)\n",
    "\n",
    "array1.reverse()\n",
    "print('7.', array1)"
   ]
  },
  {
   "cell_type": "markdown",
   "metadata": {},
   "source": [
    "**Оператор IF** "
   ]
  },
  {
   "cell_type": "code",
   "execution_count": null,
   "metadata": {
    "collapsed": true
   },
   "outputs": [],
   "source": [
    "if Test1: #Инструкция if c условным выражением Test1\n",
    "    Statements1 #Ассоциированный блок \n",
    "elif Test2: #Необязательные части elif\n",
    "    Statements2 \n",
    "else: #Необязательный блок else\n",
    "    Statements3 "
   ]
  },
  {
   "cell_type": "code",
   "execution_count": 39,
   "metadata": {
    "collapsed": false
   },
   "outputs": [
    {
     "name": "stdout",
     "output_type": "stream",
     "text": [
      "1: [1, 2]\n",
      "2: [1]\n"
     ]
    }
   ],
   "source": [
    "a = [1, 2, 3]\n",
    "\n",
    "if a != []:\n",
    "    a.pop()\n",
    "    print('1:', a)\n",
    "\n",
    "if a:\n",
    "    a.pop()\n",
    "    print('2:', a)"
   ]
  },
  {
   "cell_type": "markdown",
   "metadata": {},
   "source": [
    "**Проход по списку (итерирование). Оператор FOR** "
   ]
  },
  {
   "cell_type": "code",
   "execution_count": null,
   "metadata": {
    "collapsed": true
   },
   "outputs": [],
   "source": [
    "for Target in Object: #Связывает элементы объекта с переменной цикла\n",
    "    Statements #Повторяющееся тело цикла"
   ]
  },
  {
   "cell_type": "code",
   "execution_count": 40,
   "metadata": {
    "collapsed": false
   },
   "outputs": [
    {
     "name": "stdout",
     "output_type": "stream",
     "text": [
      "a = [6, 7, 8, 9] \n",
      "b = [0, 1, 2, 3, 4, 11, 12, 13, 14]\n"
     ]
    }
   ],
   "source": [
    "a = []\n",
    "b = []\n",
    "for index in range(15):\n",
    "    if 5 < index < 10: #index > 5 and index < 10\n",
    "        a.append(index)\n",
    "    if index < 5 or index > 10:\n",
    "        b.append(index)\n",
    "print('a = {} \\nb = {}'.format(a, b))"
   ]
  },
  {
   "cell_type": "markdown",
   "metadata": {},
   "source": [
    "** Задача 1. ** Сформировать список из чётных элементов."
   ]
  },
  {
   "cell_type": "code",
   "execution_count": 21,
   "metadata": {
    "collapsed": true
   },
   "outputs": [],
   "source": [
    "A = [1, 4, 9, 16, 25, 36, 49, 64, 81, 100]"
   ]
  },
  {
   "cell_type": "code",
   "execution_count": 24,
   "metadata": {
    "collapsed": false
   },
   "outputs": [
    {
     "name": "stdout",
     "output_type": "stream",
     "text": [
      "[4, 16, 36, 64, 100]\n"
     ]
    }
   ],
   "source": [
    "result=[]\n",
    "for i in A:\n",
    "    if i%2==0:\n",
    "        result.append(i)\n",
    "print(result)"
   ]
  },
  {
   "cell_type": "markdown",
   "metadata": {},
   "source": [
    "** Задача 2.** Сформировать список элементов, которые одновременно содержаться и в A, и в B (без дубликатов)."
   ]
  },
  {
   "cell_type": "code",
   "execution_count": 26,
   "metadata": {
    "collapsed": true
   },
   "outputs": [],
   "source": [
    "A = [1, 1, 2, 3, 5, 8, 13, 21, 34, 55, 89]\n",
    "B = [1, 2, 3, 4, 5, 6, 7, 8, 9, 10, 11, 12, 13]"
   ]
  },
  {
   "cell_type": "code",
   "execution_count": 35,
   "metadata": {
    "collapsed": false
   },
   "outputs": [
    {
     "name": "stdout",
     "output_type": "stream",
     "text": [
      "[1, 2, 3, 5, 8, 13]\n"
     ]
    }
   ],
   "source": [
    "result=[]\n",
    "for i in A:\n",
    "    for j in B:\n",
    "        if i==j and i not in result:\n",
    "            result.append(j)\n",
    "print(result)"
   ]
  },
  {
   "cell_type": "markdown",
   "metadata": {},
   "source": [
    "** Задача 3.** Придумать алгоритм, который позволил бы вырезать из списка все нулевые элементы и имел бы сложность O(n)"
   ]
  },
  {
   "cell_type": "code",
   "execution_count": 42,
   "metadata": {
    "collapsed": true
   },
   "outputs": [],
   "source": [
    "A = [1, 0, 0, 1, 0, 2, 3, 0, 0, 5, 0, 8, 13, 0, 0, 0]"
   ]
  },
  {
   "cell_type": "code",
   "execution_count": 50,
   "metadata": {
    "collapsed": false
   },
   "outputs": [
    {
     "name": "stdout",
     "output_type": "stream",
     "text": [
      "[1, 2, 3, 4, 5, 6]\n"
     ]
    }
   ],
   "source": [
    "j=0\n",
    "for i in range(0,len(A)):  \n",
    "    if A[i]!=0:\n",
    "        A[j]=A[i]\n",
    "        j+=1\n",
    "A=A[0:j]\n",
    "print(A)"
   ]
  },
  {
   "cell_type": "markdown",
   "metadata": {},
   "source": [
    "** Вложенные списки **"
   ]
  },
  {
   "cell_type": "code",
   "execution_count": 54,
   "metadata": {
    "collapsed": false
   },
   "outputs": [
    {
     "name": "stdout",
     "output_type": "stream",
     "text": [
      "Способ 1\n",
      "my_matrix[0][0] = 1\n",
      "my_matrix[1][1] = 5\n",
      "my_matrix[2][2] = 9\n",
      "Способ 2\n",
      "my_matrix[0][0] = 1\n",
      "my_matrix[1][1] = 5\n",
      "my_matrix[2][2] = 9\n",
      "Способ 3\n",
      "my_matrix[0][0] = 1\n",
      "my_matrix[1][1] = 5\n",
      "my_matrix[2][2] = 9\n",
      "Способ 4\n",
      " [1, 5, 9]\n"
     ]
    }
   ],
   "source": [
    "my_matrix = [[1, 2, 3], [4, 5, 6], [7, 8, 9]]\n",
    "\n",
    "#вывести на экран диагональные элементы\n",
    "print('Способ 1')\n",
    "\n",
    "for i in range(len(my_matrix)):\n",
    "    for j in range(len(my_matrix[i])):\n",
    "        if i == j:\n",
    "            print('my_matrix[%d][%d] = %d'%(i, j, my_matrix[i][j]))\n",
    "\n",
    "print('Способ 2')\n",
    "for i, row in enumerate(my_matrix):\n",
    "    for j, element in enumerate(row):\n",
    "        if i==j:\n",
    "            print('my_matrix[%d][%d] = %d'%(i, j, element))\n",
    "\n",
    "print('Способ 3')\n",
    "for i, row in enumerate(my_matrix):\n",
    "    print('my_matrix[%d][%d] = %d'%(i, i, row[i]))\n",
    "\n",
    "print('Способ 4\\n', [row[i] for i, row in enumerate(my_matrix)])"
   ]
  },
  {
   "cell_type": "markdown",
   "metadata": {},
   "source": [
    "**Задача 4.** Посчитать сумму всех элементов объекта my_matrix"
   ]
  },
  {
   "cell_type": "code",
   "execution_count": 56,
   "metadata": {
    "collapsed": false
   },
   "outputs": [
    {
     "name": "stdout",
     "output_type": "stream",
     "text": [
      "45\n"
     ]
    }
   ],
   "source": [
    "result=0\n",
    "for i in my_matrix:\n",
    "    result+=sum(i)\n",
    "print(result)"
   ]
  },
  {
   "cell_type": "markdown",
   "metadata": {},
   "source": [
    "### Строки"
   ]
  },
  {
   "cell_type": "code",
   "execution_count": 18,
   "metadata": {
    "collapsed": false
   },
   "outputs": [
    {
     "name": "stdout",
     "output_type": "stream",
     "text": [
      "Hello, World!\n",
      "<class 'str'>\n",
      "Length 13\n"
     ]
    }
   ],
   "source": [
    "string = 'Hello, World!'\n",
    "print(string)\n",
    "print(type(string))\n",
    "print('Length %d'%len(string))"
   ]
  },
  {
   "cell_type": "code",
   "execution_count": 19,
   "metadata": {
    "collapsed": false
   },
   "outputs": [
    {
     "name": "stdout",
     "output_type": "stream",
     "text": [
      "Char 0 -- H\n",
      "Char 1 -- e\n",
      "Char 2 -- l\n",
      "Char 3 -- l\n",
      "Char 4 -- o\n",
      "Char 5 -- ,\n",
      "Char 6 --  \n",
      "Char 7 -- W\n",
      "Char 8 -- o\n",
      "Char 9 -- r\n",
      "Char 10 -- l\n",
      "Char 11 -- d\n",
      "Char 12 -- !\n"
     ]
    }
   ],
   "source": [
    "#отдельные символы строки можно извлечь с помощью выражений индексирования\n",
    "for i in range(len(string)):\n",
    "    print('Char %d -- %c'%(i, string[i]))"
   ]
  },
  {
   "cell_type": "code",
   "execution_count": 20,
   "metadata": {
    "collapsed": false
   },
   "outputs": [
    {
     "name": "stdout",
     "output_type": "stream",
     "text": [
      "Hello  World\n"
     ]
    }
   ],
   "source": [
    "#как и для списков придусмотрены срезы и возможность индексации в обратном порядке\n",
    "print('%s %s'%(string[:5], string[-7:-1]))"
   ]
  },
  {
   "cell_type": "code",
   "execution_count": 21,
   "metadata": {
    "collapsed": false
   },
   "outputs": [
    {
     "data": {
      "text/plain": [
       "\"Hello, World! I'm born =)\""
      ]
     },
     "execution_count": 21,
     "metadata": {},
     "output_type": "execute_result"
    }
   ],
   "source": [
    "#конкатенация строк\n",
    "string+' I\\'m born =)'"
   ]
  },
  {
   "cell_type": "markdown",
   "metadata": {},
   "source": [
    "Обратите внимание, что знак плюс (+) имеет различное значение для разных объектов: для чисел – сложение, а для строк – конкатенация. Это универсальное свойство языка Python, которое называется полиморфизмом, означает, что фактически выполняемая операция зависит от объектов, которые принимают в ней участие."
   ]
  },
  {
   "cell_type": "code",
   "execution_count": 22,
   "metadata": {
    "collapsed": false
   },
   "outputs": [
    {
     "ename": "TypeError",
     "evalue": "'str' object does not support item assignment",
     "output_type": "error",
     "traceback": [
      "\u001b[0;31m---------------------------------------------------------------------------\u001b[0m",
      "\u001b[0;31mTypeError\u001b[0m                                 Traceback (most recent call last)",
      "\u001b[0;32m<ipython-input-22-462543fa6e87>\u001b[0m in \u001b[0;36m<module>\u001b[0;34m()\u001b[0m\n\u001b[1;32m      1\u001b[0m \u001b[1;31m#строки неизменяемые!!!\u001b[0m\u001b[1;33m\u001b[0m\u001b[1;33m\u001b[0m\u001b[0m\n\u001b[0;32m----> 2\u001b[0;31m \u001b[0mstring\u001b[0m\u001b[1;33m[\u001b[0m\u001b[1;36m0\u001b[0m\u001b[1;33m]\u001b[0m \u001b[1;33m=\u001b[0m \u001b[1;34m'Y'\u001b[0m\u001b[1;33m\u001b[0m\u001b[0m\n\u001b[0m",
      "\u001b[0;31mTypeError\u001b[0m: 'str' object does not support item assignment"
     ]
    }
   ],
   "source": [
    "#строки неизменяемые!!!\n",
    "string[0] = 'Y'"
   ]
  },
  {
   "cell_type": "code",
   "execution_count": 23,
   "metadata": {
    "collapsed": false
   },
   "outputs": [
    {
     "name": "stdout",
     "output_type": "stream",
     "text": [
      "The World in the string starts with the 7\n",
      "There is no Space in the string\n"
     ]
    }
   ],
   "source": [
    "#методы специфичные для строк\n",
    "begin_index_w = string.find('World')\n",
    "begin_index_s = string.find('Space')\n",
    "\n",
    "for word, begin_index in zip(['World', 'Space'], [begin_index_w, begin_index_s]):\n",
    "    if begin_index != -1:\n",
    "        print(('The '+word+' in the string starts with the %d')%begin_index)\n",
    "    else:\n",
    "        print('There is no '+word+' in the string')"
   ]
  },
  {
   "cell_type": "code",
   "execution_count": 24,
   "metadata": {
    "collapsed": false
   },
   "outputs": [
    {
     "data": {
      "text/plain": [
       "'Hello, Space!'"
      ]
     },
     "execution_count": 24,
     "metadata": {},
     "output_type": "execute_result"
    }
   ],
   "source": [
    "string.replace('World', 'Space')"
   ]
  },
  {
   "cell_type": "code",
   "execution_count": 25,
   "metadata": {
    "collapsed": false
   },
   "outputs": [
    {
     "name": "stdout",
     "output_type": "stream",
     "text": [
      "List:   ['Hello', ' World!']\n",
      "String: Hello, World!\n"
     ]
    }
   ],
   "source": [
    "words = string.split(',')\n",
    "print('List:   %s'%words)\n",
    "string = ','.join(words)\n",
    "print('String: %s'%string)"
   ]
  },
  {
   "cell_type": "code",
   "execution_count": 26,
   "metadata": {
    "collapsed": false
   },
   "outputs": [
    {
     "data": {
      "text/plain": [
       "'HELLO, WORLD!; hello, world!'"
      ]
     },
     "execution_count": 26,
     "metadata": {},
     "output_type": "execute_result"
    }
   ],
   "source": [
    "'{0}; {1}'.format(string.upper(), string.lower())"
   ]
  },
  {
   "cell_type": "markdown",
   "metadata": {},
   "source": [
    "**Задача 5.** Определить процент строчных и прописных букв в строке "
   ]
  },
  {
   "cell_type": "code",
   "execution_count": 5,
   "metadata": {
    "collapsed": false
   },
   "outputs": [
    {
     "name": "stdout",
     "output_type": "stream",
     "text": [
      "В программировании, строковый тип (англ. string - нить, вереница) - тип данных, значениями которого является произвольная последовательность (строка) символов алфавита. Каждая переменная такого типа (строковая переменная) может быть представлена фиксированным количеством байтов либо иметь произвольную длину.\n"
     ]
    }
   ],
   "source": [
    "string = 'В программировании, строковый тип (англ. string - нить, вереница) - тип данных, значениями которого является произвольная последовательность (строка) символов алфавита. Каждая переменная такого типа (строковая переменная) может быть представлена фиксированным количеством байтов либо иметь произвольную длину.'\n",
    "print(string)"
   ]
  },
  {
   "cell_type": "code",
   "execution_count": 67,
   "metadata": {
    "collapsed": false
   },
   "outputs": [],
   "source": [
    "#я решила, что время работы будет поменьше, если сразу добавить алфавит, а не собирать буквы из строки\n",
    "upper='Й Ц У К Е Н Г Ш Щ З Х Ъ Ф Ы В А П Р О Л Д Ж Э Я Ч С М И Т Ь Б Ю Q W E R T Y U I O P A S D F G H J K L Z X C V B N M'\n",
    "lower=upper.lower()\n",
    "upper=upper.split(' ')\n",
    "lower=lower.split(' ')"
   ]
  },
  {
   "cell_type": "code",
   "execution_count": 68,
   "metadata": {
    "collapsed": false
   },
   "outputs": [],
   "source": [
    "def count_letters(string,lower,upper):\n",
    "    upper_count=0\n",
    "    lower_count=0\n",
    "    for i in string:\n",
    "        if i in upper:\n",
    "            upper_count+=1\n",
    "        elif i in lower:\n",
    "            lower_count+=1\n",
    "    count=lower_count+upper_count\n",
    "    return [lower_count/count,upper_count/count]"
   ]
  },
  {
   "cell_type": "code",
   "execution_count": 73,
   "metadata": {
    "collapsed": false
   },
   "outputs": [
    {
     "name": "stdout",
     "output_type": "stream",
     "text": [
      "99.23076923076923 % строчных букв, 0.7692307692307693 % заглавных букв\n"
     ]
    }
   ],
   "source": [
    "print(count_letters(string,lower,upper)[0]*100,'% строчных букв,',\\\n",
    "      count_letters(string,lower,upper)[1]*100,'% заглавных букв')"
   ]
  },
  {
   "cell_type": "markdown",
   "metadata": {},
   "source": [
    "**Задача 6. ** Вывести на экран самое длинное слово в строке string и его длинну"
   ]
  },
  {
   "cell_type": "code",
   "execution_count": 70,
   "metadata": {
    "collapsed": false
   },
   "outputs": [],
   "source": [
    "needed_symbols=upper+lower+[' ']"
   ]
  },
  {
   "cell_type": "code",
   "execution_count": 71,
   "metadata": {
    "collapsed": false
   },
   "outputs": [],
   "source": [
    "clean_str=string\n",
    "\n",
    "for i in string:\n",
    "    if i not in needed_symbols:\n",
    "        clean_str=clean_str.replace(i,'')"
   ]
  },
  {
   "cell_type": "code",
   "execution_count": 72,
   "metadata": {
    "collapsed": false
   },
   "outputs": [
    {
     "name": "stdout",
     "output_type": "stream",
     "text": [
      "('последовательность', 18)\n"
     ]
    }
   ],
   "source": [
    "def max_word(strings_list):\n",
    "    maxx=0\n",
    "    for i in strings_list:\n",
    "        length=len(i)\n",
    "        if length>maxx:\n",
    "            maxx=length\n",
    "            index_max=i\n",
    "    return index_max, maxx   \n",
    "print(max_word(clean_str.split()))"
   ]
  },
  {
   "cell_type": "markdown",
   "metadata": {},
   "source": [
    "**Задача 7.** Проверить является ли палиндромом каждый элемент списка"
   ]
  },
  {
   "cell_type": "code",
   "execution_count": 25,
   "metadata": {
    "collapsed": true
   },
   "outputs": [],
   "source": [
    "Phrases = [u'Ежу хуже', u'Лев осовел', u'Зона заноз', u'Из искры возгорится пламя', u'Неуч учуен', u'Утоп в поту', \n",
    "           u'Маска как сам', u'Чем нежен меч', u'Отмывать деньги', u'Профессор кислых щей', u'Накрыться медным тазом', \n",
    "           u'Там холм лохмат', u'Он рёва наверно', u'Вид усов осудив', u'Лев с ума ламу свёл', u'Тёртый калач']"
   ]
  },
  {
   "cell_type": "code",
   "execution_count": 48,
   "metadata": {
    "collapsed": false
   },
   "outputs": [],
   "source": [
    "def is_palindrome(str):\n",
    "    length=len(str)\n",
    "    for i in range(0,length//2):\n",
    "        if str[i]!=str[length-i-1]:\n",
    "            return False\n",
    "    return True"
   ]
  },
  {
   "cell_type": "code",
   "execution_count": 60,
   "metadata": {
    "collapsed": false
   },
   "outputs": [
    {
     "name": "stdout",
     "output_type": "stream",
     "text": [
      "{'Ежу хуже': True, 'Лев осовел': True, 'Зона заноз': True, 'Из искры возгорится пламя': False, 'Неуч учуен': True, 'Утоп в поту': True, 'Маска как сам': True, 'Чем нежен меч': True, 'Отмывать деньги': False, 'Профессор кислых щей': False, 'Накрыться медным тазом': False, 'Там холм лохмат': True, 'Он рёва наверно': False, 'Вид усов осудив': True, 'Лев с ума ламу свёл': False, 'Тёртый калач': False}\n"
     ]
    }
   ],
   "source": [
    "result={}\n",
    "for i in Phrases:\n",
    "    result[i]=is_palindrome(i.lower().replace(' ',''))\n",
    "print(result)"
   ]
  }
 ],
 "metadata": {
  "kernelspec": {
   "display_name": "Python 3",
   "language": "python",
   "name": "python3"
  },
  "language_info": {
   "codemirror_mode": {
    "name": "ipython",
    "version": 3
   },
   "file_extension": ".py",
   "mimetype": "text/x-python",
   "name": "python",
   "nbconvert_exporter": "python",
   "pygments_lexer": "ipython3",
   "version": "3.6.0"
  }
 },
 "nbformat": 4,
 "nbformat_minor": 2
}
