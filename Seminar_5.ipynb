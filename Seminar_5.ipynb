{
 "cells": [
  {
   "cell_type": "markdown",
   "metadata": {},
   "source": [
    "## Регулярные выражения"
   ]
  },
  {
   "cell_type": "markdown",
   "metadata": {},
   "source": [
    "Регулярные выражения — формальный язык поиска и осуществления манипуляций с подстроками в тексте, основанный на использовании метасимволов\n",
    "\n",
    "Регулярные выражения можно использовать посредствам модуля [re](https://docs.python.org/3/library/re.html)"
   ]
  },
  {
   "cell_type": "code",
   "execution_count": 2,
   "metadata": {
    "collapsed": true
   },
   "outputs": [],
   "source": [
    "import re"
   ]
  },
  {
   "cell_type": "markdown",
   "metadata": {},
   "source": [
    "**Синтаксис**\n",
    "\n",
    "'.' -- В режиме по умолчанию точка соответсвует любому символу, кроме символа переноса строки ('\\n'). Чтобы точка соответсвовала также символу переноса строки, то нужно в методе модуля указать флаг re.DOTALL (например, re.findall(<регулярное выражение>, <текст>, re.DOTALL))\n",
    "\n",
    "'^' -- Символ начала строки. Если применить флаг re.MULTILINE, то данный символ будет указывать на начало каждый раз после переноса строки. Например, рассмотрим текст 'begin1 \\n begin2'. Если мы ищем все вхождения соответсвующие '^begin.', не применяя флаг re.MULTILINE, то мы получим 'begin1'. Если применить re.MULTILINE, то получим ['begin1', 'begin2'] (также можно использовать '\\A', который указывает на начало строки независимо от флагов)\n",
    "\n",
    "'$' -- Символ конца строки. Аналогично можно указывать флаг re.MULTILINE (также можно использовать '\\Z', который указывает на конец строки независимо от флагов)\n",
    "\n",
    "'\\*' -- Повторение фрагмента ноль или более раз. Регулярное выражение 'ab*' будет соответсвовать следующим строкам {'a', 'ab', 'abb', 'abbb', ...}\n",
    "\n",
    "'+' -- Повторение фрагмента один или более раз. Регулярное выражение 'ab+' будет соответсвовать следующим строкам {'ab', 'abb', 'abbb', ...}\n",
    "\n",
    "'?' -- Фрагмент либо присутствует, либо отсутствует. Регулярное выражение 'ab?' будет соответсвовать следующим строкам {'a', 'ab'}\n",
    "\n",
    "Заметим, что соостветсвия в тексте ищатся \"жадным\" образом т.е. ищем подстроку наибольшой длины, удовлетворяющую данному регулярному выражению. Например, рассмотрим текст '<а> b <с>' и регулярное выражение <.*>, то поиск всех соответсвий нам даст ['<а> b <с>'], а не ['<а>', '<с>', '<а> b <с>']!\n",
    "\n",
    "'{m}' -- Ровно m повторений данного символа\n",
    "\n",
    "'{m,n}' -- От m до n повторений данного символа. Пытается найти максимальное вхождение. Например текст - 'aaaaaaa', регулярное выражение - 'a{3,5}', тогда результат поиска будет 'aaaaa'\n",
    "\n",
    "'{m,n}?' -- От m до n повторений данного символа. Пытается найти максимальное вхождение. Например текст - 'aaaaaaa', регулярное выражение - 'a{3,5}?', тогда результат поиска будет 'aaa'\n",
    "\n",
    "Чтобы специальные символы (например, ?) интерпретировались, как просто символы в тексте их нужно экранировать '\\?'\n",
    "\n",
    "'[ ]' -- Объеденение символов в набор. Ищем любой символ из набора\n",
    "    \n",
    "    -- Можем искать символы индивидуально, т.е. '[amk]' соответсвует вхождениям 'a', 'm', или 'k'\n",
    "    -- Можно указывать диапазоны символов, например хотим искать все маленькие буквы английского алфавита - для этого не нужно вручную прописывать все 26 букв, а достаточно указать диапозон, следующим образом '[a-z]'. Символы входящие в диапазон определяются по таблицы ASCII\n",
    "    -- Специальные символы теряют своё особое значение внутри квадратных скобок, например '[(+*)]' будет соответсвовать одному из символов '(', '+', '*', ')'\n",
    "    -- Можно применять отрицание набора - '^', например регулярное выражение '[^a]' соответсвует всем символам, кроме 'a'\n",
    "    -- Чтобы интерпретировать '[' как символ открывающейся скобки,  то его нужно экранировать '\\['\n",
    "   \n",
    "\n",
    "'A|B' -- Ищем вхождения соответсвующие A или B\n",
    "\n",
    "'( )' -- Задаём последовательность символов, например '(ab)' - ищем все вхождения комбинации 'ab'\n",
    "\n",
    "'\\b' -- Соответсвует пустой строке, но только в начале или в конце слова. Формально '\\b' определяется как граница между символами '\\w' и '\\W' (или наоборот) или между символами '\\w' и началом/концом строки. Это означает, что регулярное выражение '\\bfoo\\b' соответствует 'foo', 'foo.', '(foo)', 'bar foo baz', но не 'foobar' или 'foo3'\n",
    "\n",
    "'\\B' -- Соответствует пустой строке, но только тогда, когда она не находится в начале или конце слова. Это означает, что регулярное выражение 'py\\B' соответствует строкам 'python','py3','py2', но не 'py', 'py.' или 'py!'\n",
    "\n",
    "'\\d' -- Соответсвует цифрам от 0 до 9\n",
    "\n",
    "'\\D' -- Соответсвует всем символам, кроме цифр от 0 до 9\n",
    "\n",
    "'\\s' -- Соответсвует пробельным символам - [ \\t\\n\\r\\f\\v]\n",
    "\n",
    "'\\S' -- Соответсвует всем символам, кроме пробельных\n",
    "\n",
    "'\\w' -- Соответсвует [a-zA-Z0-9_] - символам букв, цифр и символу нижнего подчеркивания\n",
    "\n",
    "'\\W' -- Соответсвует всем символам кроме заявленным в '\\w'"
   ]
  },
  {
   "cell_type": "markdown",
   "metadata": {},
   "source": [
    "Заменить подстроку в строке можно с помощью метода [sub](https://lzone.de/examples/Python%20re.sub)"
   ]
  },
  {
   "cell_type": "code",
   "execution_count": 3,
   "metadata": {
    "collapsed": false
   },
   "outputs": [
    {
     "data": {
      "text/plain": [
       "'Alph SUB  SUB et In SUB .'"
      ]
     },
     "execution_count": 3,
     "metadata": {},
     "output_type": "execute_result"
    }
   ],
   "source": [
    "re.sub(r'[a-c]', ' SUB ', 'Alphabet Inc.')"
   ]
  },
  {
   "cell_type": "code",
   "execution_count": 4,
   "metadata": {
    "collapsed": false
   },
   "outputs": [
    {
     "data": {
      "text/plain": [
       "' SUB  SUB  SUB  SUB ab SUB  SUB  SUB  SUB  SUB c SUB '"
      ]
     },
     "execution_count": 4,
     "metadata": {},
     "output_type": "execute_result"
    }
   ],
   "source": [
    "re.sub(r'[^a-c]', ' SUB ', 'Alphabet Inc.')"
   ]
  },
  {
   "cell_type": "code",
   "execution_count": 5,
   "metadata": {
    "collapsed": false
   },
   "outputs": [
    {
     "data": {
      "text/plain": [
       "'|Hello| |World| |!|'"
      ]
     },
     "execution_count": 5,
     "metadata": {},
     "output_type": "execute_result"
    }
   ],
   "source": [
    "re.sub(r'[\\[\\]]', '|', '[Hello] [World] [!]')"
   ]
  },
  {
   "cell_type": "markdown",
   "metadata": {},
   "source": [
    "Найти все подстроки, которые соответвуют регулярному выражению, можно с помощью методов [findall, finditer](https://www.hackerrank.com/challenges/re-findall-re-finditer/problem)"
   ]
  },
  {
   "cell_type": "code",
   "execution_count": 6,
   "metadata": {
    "collapsed": false
   },
   "outputs": [
    {
     "data": {
      "text/plain": [
       "['H', 'e', 'l', 'l', 'o', 'W', 'o', 'r', 'l', 'd']"
      ]
     },
     "execution_count": 6,
     "metadata": {},
     "output_type": "execute_result"
    }
   ],
   "source": [
    "re.findall(r'\\w', 'Hello World!')"
   ]
  },
  {
   "cell_type": "code",
   "execution_count": 7,
   "metadata": {
    "collapsed": false
   },
   "outputs": [
    {
     "data": {
      "text/plain": [
       "['Hello', 'World']"
      ]
     },
     "execution_count": 7,
     "metadata": {},
     "output_type": "execute_result"
    }
   ],
   "source": [
    "re.findall(r'\\w....', 'Hello World!')"
   ]
  },
  {
   "cell_type": "code",
   "execution_count": 8,
   "metadata": {
    "collapsed": false
   },
   "outputs": [
    {
     "name": "stdout",
     "output_type": "stream",
     "text": [
      "\\w*  --  ['a', '', 'aa', '', 'aaa', '', 'aaaa', '', 'aaaaa', '']\n",
      "\\w+  --  ['a', 'aa', 'aaa', 'aaaa', 'aaaaa']\n",
      "\\w?  --  ['a', '', 'a', 'a', '', 'a', 'a', 'a', '', 'a', 'a', 'a', 'a', '', 'a', 'a', 'a', 'a', 'a', '']\n",
      "\\w{1,4}  --  ['a', 'aa', 'aaa', 'aaaa', 'aaaa', 'a']\n"
     ]
    }
   ],
   "source": [
    "for r in [r'\\w*', r'\\w+', r'\\w?', r'\\w{1,4}']:\n",
    "    print(r, ' -- ', re.findall(r, 'a aa aaa aaaa aaaaa'))"
   ]
  },
  {
   "cell_type": "markdown",
   "metadata": {},
   "source": [
    "** Задача 1. ** Реализуйте функцию, которая на вход принемает имя файла, далее выделите множество слов с помощью регулярных выражений и возвращает словарь, где ключь - слово, а значение - число его вхождений в файл."
   ]
  },
  {
   "cell_type": "code",
   "execution_count": 30,
   "metadata": {
    "collapsed": true
   },
   "outputs": [],
   "source": [
    "def FindWords(filename):\n",
    "    dictionary={}\n",
    "    for line in open(filename,encoding='utf-8'):\n",
    "        for i in re.findall(r'\\s[А-я]+[-]*[А-я]*\\s',line):\n",
    "            i=i.lower()\n",
    "            \n",
    "            if '-' in i and i.split('-')[0]==i.split('-')[1]:\n",
    "                i=i.split('-')[0]\n",
    "                dictionary.setdefault(i,0)\n",
    "                dictionary[i]+=2\n",
    "            else:              \n",
    "                dictionary.setdefault(i,0)\n",
    "                dictionary[i]+=1\n",
    "                \n",
    "    return dictionary"
   ]
  },
  {
   "cell_type": "code",
   "execution_count": 36,
   "metadata": {
    "collapsed": false
   },
   "outputs": [
    {
     "name": "stdout",
     "output_type": "stream",
     "text": [
      " и  24\n",
      " а  20\n",
      " не  13\n",
      " баба-яга  13\n",
      " ты  11\n",
      " да  9\n",
      " девочка  8\n",
      " в  8\n",
      " почему  8\n",
      " она  7\n"
     ]
    }
   ],
   "source": [
    "freq_dict=FindWords('story.txt')\n",
    "counter=1\n",
    "for w in sorted(freq_dict,key=freq_dict.get,reverse=True):\n",
    "    if counter<=10:\n",
    "        print(w,freq_dict[w])\n",
    "        counter+=1\n",
    "    else:\n",
    "        break"
   ]
  },
  {
   "cell_type": "markdown",
   "metadata": {},
   "source": [
    "Проверить реализацию метода можно на файле story.txt. Распечатайте 10 наиболее частотных слов."
   ]
  },
  {
   "cell_type": "markdown",
   "metadata": {},
   "source": [
    "** Задача 2. ** Написать функцию, которая определяет является строка email-ом "
   ]
  },
  {
   "cell_type": "code",
   "execution_count": 50,
   "metadata": {
    "collapsed": true
   },
   "outputs": [],
   "source": [
    "def is_email(string):\n",
    "    match=re.match(r'^[A-z]+\\@[A-z]+\\.[a-z]+$',string)\n",
    "    if match:\n",
    "        return match.group()\n",
    "    else:\n",
    "        return 'not an e-mail' "
   ]
  },
  {
   "cell_type": "markdown",
   "metadata": {},
   "source": [
    "Применить данную функцию последовательно к строкам из списка ниже и распичатать строку и ответ функции для неё"
   ]
  },
  {
   "cell_type": "code",
   "execution_count": 51,
   "metadata": {
    "collapsed": true
   },
   "outputs": [],
   "source": [
    "strings = ['mail@mail.ru', 'bug@@@com.ru', 'bug@@@com.ru', '@val.ru', \n",
    "           'valid@megapochta.com', 'Just Text2', 'val@val', \n",
    "           'aa@aa.info', 'bug@@@com.ru', 'val@val.a.a.a.a', \n",
    "           '12323123@111[]][] ']"
   ]
  },
  {
   "cell_type": "code",
   "execution_count": 52,
   "metadata": {
    "collapsed": false
   },
   "outputs": [
    {
     "name": "stdout",
     "output_type": "stream",
     "text": [
      "mail@mail.ru\n",
      "not an e-mail\n",
      "not an e-mail\n",
      "not an e-mail\n",
      "valid@megapochta.com\n",
      "not an e-mail\n",
      "not an e-mail\n",
      "aa@aa.info\n",
      "not an e-mail\n",
      "not an e-mail\n",
      "not an e-mail\n"
     ]
    }
   ],
   "source": [
    "for i in strings:\n",
    "    print(is_email(i))"
   ]
  },
  {
   "cell_type": "markdown",
   "metadata": {},
   "source": [
    "**Задача 3.** Написать функцию, которая находит в тексте все даты в формате DD/MM/YYYY"
   ]
  },
  {
   "cell_type": "code",
   "execution_count": 23,
   "metadata": {
    "collapsed": false
   },
   "outputs": [],
   "source": [
    "def FindDate(filename):\n",
    "    result=[]\n",
    "    for line in open(filename):\n",
    "        result+=re.findall(\"(?:0[1-9]|[1-2][0-9]|3[0-1])[/](?:0[1-9]|1[0-2])\\/d{4}\",line)\n",
    "    return result  "
   ]
  },
  {
   "cell_type": "markdown",
   "metadata": {},
   "source": [
    "Проверить реализацию метода можно на файле text_with_date.txt"
   ]
  },
  {
   "cell_type": "code",
   "execution_count": 24,
   "metadata": {
    "collapsed": false
   },
   "outputs": [
    {
     "data": {
      "text/plain": [
       "['13/12/2017', '23/12/2017']"
      ]
     },
     "execution_count": 24,
     "metadata": {},
     "output_type": "execute_result"
    }
   ],
   "source": [
    "FindDate('text_with_date.txt')"
   ]
  }
 ],
 "metadata": {
  "kernelspec": {
   "display_name": "Python 3",
   "language": "python",
   "name": "python3"
  },
  "language_info": {
   "codemirror_mode": {
    "name": "ipython",
    "version": 3
   },
   "file_extension": ".py",
   "mimetype": "text/x-python",
   "name": "python",
   "nbconvert_exporter": "python",
   "pygments_lexer": "ipython3",
   "version": "3.6.0"
  }
 },
 "nbformat": 4,
 "nbformat_minor": 2
}
