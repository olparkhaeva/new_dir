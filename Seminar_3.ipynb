{
 "cells": [
  {
   "cell_type": "markdown",
   "metadata": {},
   "source": [
    "## Введение в Python. Функции. Типы данных. Кортежи, множества и словари "
   ]
  },
  {
   "cell_type": "markdown",
   "metadata": {},
   "source": [
    "### Функции"
   ]
  },
  {
   "cell_type": "markdown",
   "metadata": {},
   "source": [
    "Функция – это средство, позволяющее группировать наборы инструкций так, что в программе они могут запускаться неоднократно.\n",
    "\n",
    "$\\textbf{def}$ – это исполняемый программный код. Функции в языке Python создаются с помощью новой инструкции def. В отличие от функций в компилирующих языках программирования def относится к классу исполняемых инструкций  – функция не существует, пока интерпретатор не доберется до инструкции def и не выполнит ее.\n",
    "\n",
    "$\\textbf{def}$ создает объект и  присваивает ему имя. Когда интерпретатор Python встречает и выполняет инструкцию def, он создает новый объект-функцию и  связывает его с  именем функции. Как и  в любой другой операции присваивания, имя становится ссылкой на объект-функцию.\n",
    "\n",
    "$\\textbf{return}$ передает объект результата вызывающей программе. Когда функцияvвызывается, вызывающая программа приостанавливает свою работу, пока функция не завершит работу и не вернет управление. Функции, вычисляющие какое-либо значение, возвращают его с помощью инструкции return – возвращаемое значение становится результатом обращения к функции."
   ]
  },
  {
   "cell_type": "code",
   "execution_count": null,
   "metadata": {
    "collapsed": true
   },
   "outputs": [],
   "source": [
    "def <name>(arg1, arg2,... argN):\n",
    "    <statements>"
   ]
  },
  {
   "cell_type": "code",
   "execution_count": null,
   "metadata": {
    "collapsed": true
   },
   "outputs": [],
   "source": [
    "Тело функции часто содержит инструкцию return:\n",
    "\n",
    "def <name>(arg1, arg2,... argN):\n",
    "    ...\n",
    "    return <value>"
   ]
  },
  {
   "cell_type": "markdown",
   "metadata": {},
   "source": [
    "** Пример. ** Дано два числа a и b. Выведите гипотенузу треугольника с заданными катетами"
   ]
  },
  {
   "cell_type": "code",
   "execution_count": 2,
   "metadata": {
    "collapsed": false
   },
   "outputs": [
    {
     "name": "stdout",
     "output_type": "stream",
     "text": [
      "hypotenuse = 1.41\n"
     ]
    }
   ],
   "source": [
    "import math\n",
    "\n",
    "def get_hypotenuse(a, b):\n",
    "    hypotenuse = math.sqrt(a**2 + b**2)\n",
    "    return hypotenuse\n",
    "\n",
    "print('hypotenuse = %.2f'%get_hypotenuse(1, 1))"
   ]
  },
  {
   "cell_type": "code",
   "execution_count": 3,
   "metadata": {
    "collapsed": false
   },
   "outputs": [
    {
     "name": "stdout",
     "output_type": "stream",
     "text": [
      "2 != 2.8284271247461903\n"
     ]
    }
   ],
   "source": [
    "hypotenuse = 2\n",
    "print(hypotenuse, '!=', get_hypotenuse(2, 2))"
   ]
  },
  {
   "cell_type": "markdown",
   "metadata": {},
   "source": [
    "** Задача 1. ** \n",
    "\n",
    "$n$  школьников делят $k$  яблок поровну, неделяющийся остаток остается в корзинке. Сколько яблок достанется каждому школьнику?\n",
    "\n",
    "Функция получает на вход числа $n$ и $k$  - целые, положительные, не превышают $10000$. "
   ]
  },
  {
   "cell_type": "code",
   "execution_count": 29,
   "metadata": {
    "collapsed": true
   },
   "outputs": [],
   "source": [
    "def apple_divider(apple,pupil): \n",
    "    return apple//pupil"
   ]
  },
  {
   "cell_type": "code",
   "execution_count": 30,
   "metadata": {
    "collapsed": false
   },
   "outputs": [
    {
     "name": "stdout",
     "output_type": "stream",
     "text": [
      "0\n"
     ]
    }
   ],
   "source": [
    "print(apple_divider(6,7))"
   ]
  },
  {
   "cell_type": "markdown",
   "metadata": {},
   "source": [
    "** Задача 2. ** Дано трехзначное число. Найдите сумму его цифр."
   ]
  },
  {
   "cell_type": "code",
   "execution_count": 4,
   "metadata": {
    "collapsed": true
   },
   "outputs": [],
   "source": [
    "def sum_digits(n):\n",
    "    sum_of_digits=n//100+n%100//10+n%10\n",
    "    return sum_of_digits"
   ]
  },
  {
   "cell_type": "code",
   "execution_count": 5,
   "metadata": {
    "collapsed": false
   },
   "outputs": [
    {
     "data": {
      "text/plain": [
       "6"
      ]
     },
     "execution_count": 5,
     "metadata": {},
     "output_type": "execute_result"
    }
   ],
   "source": [
    "sum_digits(123)"
   ]
  },
  {
   "cell_type": "markdown",
   "metadata": {},
   "source": [
    "** Задача 3. ** По данному целому числу N распечатайте вернуть список квадратов натуральных чисел, не превосходящие N, в порядке возрастания."
   ]
  },
  {
   "cell_type": "code",
   "execution_count": 6,
   "metadata": {
    "collapsed": true
   },
   "outputs": [],
   "source": [
    "def squares_less(N):\n",
    "    result=[]\n",
    "    for i in range(1,N):\n",
    "          result.append(i*i)\n",
    "    return result"
   ]
  },
  {
   "cell_type": "code",
   "execution_count": 7,
   "metadata": {
    "collapsed": false
   },
   "outputs": [
    {
     "data": {
      "text/plain": [
       "[1, 4]"
      ]
     },
     "execution_count": 7,
     "metadata": {},
     "output_type": "execute_result"
    }
   ],
   "source": [
    "squares_less(3)"
   ]
  },
  {
   "cell_type": "markdown",
   "metadata": {},
   "source": [
    "** Задача 4. ** \n",
    "\n",
    "Необходимо определить индексы элементов списка, значение которых не меньше заданного минимума и не больше заданного максимума.\n",
    "\n",
    "На вход функции подаётся список, минимум и максимум."
   ]
  },
  {
   "cell_type": "code",
   "execution_count": 10,
   "metadata": {
    "collapsed": true
   },
   "outputs": [],
   "source": [
    "def between(input_list,MIN,MAX):\n",
    "    if MIN>MAX:\n",
    "        return 'INPUT ERROR! MIN SHOULD BE SMALLER OR EQUAL MAX!'\n",
    "    result=[i for i in input_list if i>=MIN and i<=MAX]\n",
    "    return result"
   ]
  },
  {
   "cell_type": "code",
   "execution_count": 13,
   "metadata": {
    "collapsed": false
   },
   "outputs": [
    {
     "data": {
      "text/plain": [
       "'INPUT ERROR! MIN SHOULD BE SMALLER OR EQUAL MAX'"
      ]
     },
     "execution_count": 13,
     "metadata": {},
     "output_type": "execute_result"
    }
   ],
   "source": [
    "between([1,2,3,4],4,3)"
   ]
  },
  {
   "cell_type": "markdown",
   "metadata": {},
   "source": [
    "** Задача 5. ** На вход функции подаётся список натуральных чисел. Определите наибольшую длину монотонного фрагмента последовательности (то есть такого фрагмента, где все элементы либо больше предыдущего, либо меньше)."
   ]
  },
  {
   "cell_type": "code",
   "execution_count": 34,
   "metadata": {
    "collapsed": true
   },
   "outputs": [],
   "source": [
    "def len_monontone_sublist(input_list):\n",
    "    len_incr=[1]\n",
    "    len_decr=[1]\n",
    "    \n",
    "    for i in range(0,len(input_list)):\n",
    "        if input_list[i]>input_list[i-1]:\n",
    "            len_incr[-1]+=1\n",
    "            len_decr.append(1)\n",
    "        elif input_list[i]<input_list[i-1]:\n",
    "            len_decr[-1]+=1\n",
    "            len_incr.append(1)\n",
    "        else:\n",
    "            len_decr.append(1)\n",
    "            len_incr.append(1)\n",
    "            \n",
    "    return max(max(len_decr),max(len_incr))\n",
    "            "
   ]
  },
  {
   "cell_type": "code",
   "execution_count": 35,
   "metadata": {
    "collapsed": false
   },
   "outputs": [
    {
     "data": {
      "text/plain": [
       "4"
      ]
     },
     "execution_count": 35,
     "metadata": {},
     "output_type": "execute_result"
    }
   ],
   "source": [
    "len_monontone_sublist([1,2,4,3,2,1])"
   ]
  },
  {
   "cell_type": "markdown",
   "metadata": {},
   "source": [
    "** Задача 6. **\n",
    "\n",
    "В шифре Цезаря каждая буква заменяется на $k$-ую по счету в алфавите после данной, с цикличностью.\n",
    "\n",
    "Функция принемает на вход строку и параметр $k$. Требуется вернуть зашифрованную строку"
   ]
  },
  {
   "cell_type": "code",
   "execution_count": 88,
   "metadata": {
    "collapsed": false
   },
   "outputs": [],
   "source": [
    "alpha=['а', 'б', 'в', 'г', 'д', 'е', 'ё', 'ж', 'з', 'и', 'й', 'к', 'л', 'м',\\\n",
    "       'н', 'о', 'п', 'р', 'с', 'т', 'у', 'ф', 'х', 'ц', 'ч', 'ш', 'щ', 'ъ', 'ы', 'ь', 'э', 'ю', 'я']"
   ]
  },
  {
   "cell_type": "code",
   "execution_count": 126,
   "metadata": {
    "collapsed": false
   },
   "outputs": [],
   "source": [
    "def Cesar(input_str,k,alphabet):\n",
    "    \n",
    "    input_str=list(input_str)\n",
    "    \n",
    "    for idx,l in enumerate(input_str):\n",
    "        new_letter=alphabet.index(l)+k\n",
    "        input_str[idx]=alphabet[new_letter]\n",
    "        \n",
    "    return ''.join(input_str)    "
   ]
  },
  {
   "cell_type": "code",
   "execution_count": 127,
   "metadata": {
    "collapsed": false
   },
   "outputs": [
    {
     "name": "stdout",
     "output_type": "stream",
     "text": [
      "бвгд\n"
     ]
    }
   ],
   "source": [
    "print(Cesar('абвг',1,alpha))"
   ]
  },
  {
   "cell_type": "markdown",
   "metadata": {},
   "source": [
    "** Задача 7 ** \n",
    "\n",
    "Капитан Флинт зарыл клад на Острове сокровищ. Он оставил описание, как найти клад. Описание состоит из строк вида: “North 5”, где первое слово – одно из “North”, “South”, “East”, “West”, а второе число – количество шагов, необходимое пройти в этом направлении.\n",
    "\n",
    "Напишите программу, которая по описанию пути к кладу определяет точные координаты клада, считая, что начало координат находится в начале пути, ось OX  направлена на восток, ось OY – на север.\n",
    "Входные данные\n",
    "\n",
    "Функция получает на вход список строк указанного вида.\n",
    "\n",
    "Функция должна вернуть два целых числа: координаты клада. \n",
    "\n",
    "Например, при входных данных: ['North 5', 'East 3', 'South 1'] функция должна вернуть координаты (3, 4)"
   ]
  },
  {
   "cell_type": "code",
   "execution_count": 143,
   "metadata": {
    "collapsed": false
   },
   "outputs": [],
   "source": [
    "def path(input_list):\n",
    "    x=0\n",
    "    y=0\n",
    "    \n",
    "    for i in input_list:\n",
    "        \n",
    "        direction=i.split()[0]\n",
    "        steps=int(i.split()[1])\n",
    "        \n",
    "        if direction=='North':\n",
    "            y+=steps\n",
    "            \n",
    "        elif direction=='East':\n",
    "            x+=steps\n",
    "            \n",
    "        elif direction=='South':\n",
    "            y-=steps\n",
    "            \n",
    "        elif direction=='West':\n",
    "            x-=steps\n",
    "            \n",
    "        else:\n",
    "            return 'INPUT ERROR'\n",
    "    return x,y"
   ]
  },
  {
   "cell_type": "code",
   "execution_count": 144,
   "metadata": {
    "collapsed": false
   },
   "outputs": [
    {
     "name": "stdout",
     "output_type": "stream",
     "text": [
      "(3, 4)\n"
     ]
    }
   ],
   "source": [
    "print(path(['North 5', 'East 3', 'South 1'] ))"
   ]
  },
  {
   "cell_type": "markdown",
   "metadata": {},
   "source": [
    "### Кортежи"
   ]
  },
  {
   "cell_type": "code",
   "execution_count": 37,
   "metadata": {
    "collapsed": false
   },
   "outputs": [
    {
     "name": "stdout",
     "output_type": "stream",
     "text": [
      "(1, 'a') <class 'tuple'>\n",
      "List of tuples: <zip object at 0x0000000005059C08>\n"
     ]
    }
   ],
   "source": [
    "a = (1, 'a')\n",
    "print(a, type(a))\n",
    "\n",
    "nlist = [1, 2, 3, 4, 5]\n",
    "clist = ['a', 'b', 'c', 'd', 'e']\n",
    "print('List of tuples: %s'%zip(nlist, clist))"
   ]
  },
  {
   "cell_type": "markdown",
   "metadata": {},
   "source": [
    "** Задача 8. ** Напишите функцию принимающую на вход строку и преобразующую её в список кортежей длинны 2. Каждый кортеж имеет вид (Слово, Длинна_слова)"
   ]
  },
  {
   "cell_type": "code",
   "execution_count": 82,
   "metadata": {
    "collapsed": false
   },
   "outputs": [],
   "source": [
    "def word_counter(input_string):\n",
    "    \n",
    "    for i in input_string:\n",
    "        if not(i.isalpha()) and i!=' ':\n",
    "            input_string=input_string.replace(i,'')\n",
    "            \n",
    "    result=[(i,len(i)) for i in input_string.split()]       \n",
    "    return result"
   ]
  },
  {
   "cell_type": "code",
   "execution_count": 83,
   "metadata": {
    "collapsed": true
   },
   "outputs": [],
   "source": [
    "string = 'Кортеж — упорядоченный набор фиксированной длины.'"
   ]
  },
  {
   "cell_type": "code",
   "execution_count": 84,
   "metadata": {
    "collapsed": false
   },
   "outputs": [
    {
     "data": {
      "text/plain": [
       "[('Кортеж', 6),\n",
       " ('упорядоченный', 13),\n",
       " ('набор', 5),\n",
       " ('фиксированной', 13),\n",
       " ('длины', 5)]"
      ]
     },
     "execution_count": 84,
     "metadata": {},
     "output_type": "execute_result"
    }
   ],
   "source": [
    "word_counter(string)"
   ]
  },
  {
   "cell_type": "markdown",
   "metadata": {},
   "source": [
    "### Множества\n",
    "\n",
    "http://www.ilnurgi1.ru/docs/python/base/set.html"
   ]
  },
  {
   "cell_type": "code",
   "execution_count": 9,
   "metadata": {
    "collapsed": false
   },
   "outputs": [
    {
     "name": "stdout",
     "output_type": "stream",
     "text": [
      "<class 'set'>\n",
      "{1, 2}\n",
      "{1, 2, 3}\n",
      "{1, 2, 3, 4, 5}\n",
      "1 {2, 3, 4, 5}\n",
      "None {2, 3, 5}\n"
     ]
    }
   ],
   "source": [
    "a = set([1, 2, 1])\n",
    "print(type(a))\n",
    "print(a)\n",
    "a.add(3)\n",
    "print(a)\n",
    "a.update([5, 3, 4])\n",
    "print(a)\n",
    "print(a.pop(), a)\n",
    "print(a.remove(4), a)"
   ]
  },
  {
   "cell_type": "code",
   "execution_count": 10,
   "metadata": {
    "collapsed": false
   },
   "outputs": [
    {
     "name": "stdout",
     "output_type": "stream",
     "text": [
      "{1, 2}\n",
      "set()\n",
      "b - ?\n"
     ]
    }
   ],
   "source": [
    "a = set([1, 2, 1])\n",
    "b = a\n",
    "print(b)\n",
    "a.clear()\n",
    "print(a)\n",
    "print(b)"
   ]
  },
  {
   "cell_type": "code",
   "execution_count": 11,
   "metadata": {
    "collapsed": false
   },
   "outputs": [
    {
     "name": "stdout",
     "output_type": "stream",
     "text": [
      "{1, 2}\n",
      "set()\n",
      "b - ?\n"
     ]
    }
   ],
   "source": [
    "a = set([1, 2, 1])\n",
    "b = a.copy()\n",
    "print(b)\n",
    "a.clear()\n",
    "print(a)\n",
    "print(b)"
   ]
  },
  {
   "cell_type": "code",
   "execution_count": 12,
   "metadata": {
    "collapsed": true
   },
   "outputs": [],
   "source": [
    "string = 'In mathematics, a set is a well-defined collection of distinct objects, considered as an object in its own right. For example, the numbers 2, 4, and 6 are distinct objects when considered separately, but when they are considered collectively they form a single set of size three, written {2,4,6}. Sets are one of the most fundamental concepts in mathematics. Developed at the end of the 19th century, set theory is now a ubiquitous part of mathematics, and can be used as a foundation from which nearly all of mathematics can be derived. In mathematics education, elementary topics such as Venn diagrams are taught at a young age, while more advanced concepts are taught as part of a university degree. The German word Menge, rendered as \"set\" in English, was coined by Bernard Bolzano in his work The Paradoxes of the Infinite.'"
   ]
  },
  {
   "cell_type": "code",
   "execution_count": 13,
   "metadata": {
    "collapsed": false
   },
   "outputs": [
    {
     "name": "stdout",
     "output_type": "stream",
     "text": [
      "Number of words - 141\n",
      "Number of unique words - 94\n"
     ]
    }
   ],
   "source": [
    "words = string.split(' ')\n",
    "print('Number of words - %d'%len(words))\n",
    "lower_words = [word.lower() for word in words]\n",
    "set_words = set(words)\n",
    "print('Number of unique words - %d'%len(set_words))"
   ]
  },
  {
   "cell_type": "markdown",
   "metadata": {},
   "source": [
    "** Задача 9. ** Написать функцию, которая на вход принимает два списка А и В, а возвращает список элементов, которые одновременно содержаться и в A, и в B (без дубликатов)"
   ]
  },
  {
   "cell_type": "markdown",
   "metadata": {},
   "source": []
  },
  {
   "cell_type": "code",
   "execution_count": 85,
   "metadata": {
    "collapsed": true
   },
   "outputs": [],
   "source": [
    "def list_unique(A,B):\n",
    "    result=list(set(A)&set(B))\n",
    "    return result"
   ]
  },
  {
   "cell_type": "code",
   "execution_count": 86,
   "metadata": {
    "collapsed": false
   },
   "outputs": [
    {
     "data": {
      "text/plain": [
       "[1, 2, 3, 4]"
      ]
     },
     "execution_count": 86,
     "metadata": {},
     "output_type": "execute_result"
    }
   ],
   "source": [
    "list_unique([1,1,2,3,4],[4,3,2,2,1])"
   ]
  },
  {
   "cell_type": "markdown",
   "metadata": {},
   "source": [
    "### Cловари \n",
    "\n",
    "http://www.ilnurgi1.ru/docs/python/base/dicts.html"
   ]
  },
  {
   "cell_type": "code",
   "execution_count": 15,
   "metadata": {
    "collapsed": false
   },
   "outputs": [
    {
     "name": "stdout",
     "output_type": "stream",
     "text": [
      "{'a': 1, 'b': 2} <class 'dict'>\n"
     ]
    }
   ],
   "source": [
    "a = {'a':1, 'b':2}\n",
    "print(a, type(a))"
   ]
  },
  {
   "cell_type": "code",
   "execution_count": 16,
   "metadata": {
    "collapsed": false
   },
   "outputs": [
    {
     "name": "stdout",
     "output_type": "stream",
     "text": [
      "Length of dictionary - 92\n"
     ]
    }
   ],
   "source": [
    "dictionary = {}\n",
    "for word in lower_words:\n",
    "    dictionary.setdefault(word, 0)\n",
    "    dictionary[word] += 1\n",
    "\n",
    "print('Length of dictionary - %d'%len(dictionary))"
   ]
  },
  {
   "cell_type": "code",
   "execution_count": 17,
   "metadata": {
    "collapsed": false
   },
   "outputs": [
    {
     "name": "stdout",
     "output_type": "stream",
     "text": [
      "dict_keys(['single', 'from', 'mathematics.', 'all', '4,', 'university', 'menge,', 'distinct', 'right.', 'topics', 'own', 'in', 'example,', 'form', 'rendered', '{2,4,6}.', 'most', 'developed', 'as', 'considered', 'age,', 'the', 'mathematics,', 'infinite.', 'more', 'and', 'was', '\"set\"', 'part', 'written', 'diagrams', 'such', '19th', 'used', 'young', 'well-defined', 'collection', 'concepts', 'objects', 'when', 'century,', 'by', 'venn', 'for', 'english,', 'be', 'coined', 'sets', 'three,', 'a', 'can', 'while', 'but', 'foundation', 'taught', 'one', 'they', 'collectively', 'an', 'set', 'is', 'object', 'his', '2,', 'german', 'fundamental', 'are', 'bernard', 'paradoxes', 'objects,', 'numbers', 'at', 'education,', 'end', 'now', 'ubiquitous', '6', 'which', 'theory', 'size', 'of', 'elementary', 'separately,', 'advanced', 'derived.', 'bolzano', 'word', 'work', 'nearly', 'mathematics', 'its', 'degree.'])\n"
     ]
    }
   ],
   "source": [
    "keys = dictionary.keys()\n",
    "print(keys)"
   ]
  },
  {
   "cell_type": "code",
   "execution_count": 18,
   "metadata": {
    "collapsed": false
   },
   "outputs": [
    {
     "name": "stdout",
     "output_type": "stream",
     "text": [
      "dict_values([1, 1, 1, 1, 1, 1, 1, 2, 1, 1, 1, 6, 1, 1, 1, 1, 1, 1, 5, 3, 1, 7, 2, 1, 1, 2, 1, 1, 2, 1, 1, 1, 1, 1, 1, 1, 1, 2, 1, 2, 1, 1, 1, 1, 1, 2, 1, 1, 1, 7, 2, 1, 1, 1, 2, 1, 2, 1, 1, 3, 2, 1, 1, 1, 1, 1, 5, 1, 1, 1, 1, 2, 1, 1, 1, 1, 1, 1, 1, 1, 8, 1, 1, 1, 1, 1, 1, 1, 1, 2, 1, 1])\n"
     ]
    }
   ],
   "source": [
    "values = dictionary.values()\n",
    "print(values)"
   ]
  },
  {
   "cell_type": "code",
   "execution_count": 19,
   "metadata": {
    "collapsed": false
   },
   "outputs": [
    {
     "name": "stdout",
     "output_type": "stream",
     "text": [
      "dict_items([('single', 1), ('from', 1), ('mathematics.', 1), ('all', 1), ('4,', 1), ('university', 1), ('menge,', 1), ('distinct', 2), ('right.', 1), ('topics', 1), ('own', 1), ('in', 6), ('example,', 1), ('form', 1), ('rendered', 1), ('{2,4,6}.', 1), ('most', 1), ('developed', 1), ('as', 5), ('considered', 3), ('age,', 1), ('the', 7), ('mathematics,', 2), ('infinite.', 1), ('more', 1), ('and', 2), ('was', 1), ('\"set\"', 1), ('part', 2), ('written', 1), ('diagrams', 1), ('such', 1), ('19th', 1), ('used', 1), ('young', 1), ('well-defined', 1), ('collection', 1), ('concepts', 2), ('objects', 1), ('when', 2), ('century,', 1), ('by', 1), ('venn', 1), ('for', 1), ('english,', 1), ('be', 2), ('coined', 1), ('sets', 1), ('three,', 1), ('a', 7), ('can', 2), ('while', 1), ('but', 1), ('foundation', 1), ('taught', 2), ('one', 1), ('they', 2), ('collectively', 1), ('an', 1), ('set', 3), ('is', 2), ('object', 1), ('his', 1), ('2,', 1), ('german', 1), ('fundamental', 1), ('are', 5), ('bernard', 1), ('paradoxes', 1), ('objects,', 1), ('numbers', 1), ('at', 2), ('education,', 1), ('end', 1), ('now', 1), ('ubiquitous', 1), ('6', 1), ('which', 1), ('theory', 1), ('size', 1), ('of', 8), ('elementary', 1), ('separately,', 1), ('advanced', 1), ('derived.', 1), ('bolzano', 1), ('word', 1), ('work', 1), ('nearly', 1), ('mathematics', 2), ('its', 1), ('degree.', 1)])\n"
     ]
    }
   ],
   "source": [
    "print(dictionary.items())"
   ]
  },
  {
   "cell_type": "code",
   "execution_count": 20,
   "metadata": {
    "collapsed": false
   },
   "outputs": [
    {
     "data": {
      "text/plain": [
       "True"
      ]
     },
     "execution_count": 20,
     "metadata": {},
     "output_type": "execute_result"
    }
   ],
   "source": [
    "'the' in dictionary"
   ]
  },
  {
   "cell_type": "markdown",
   "metadata": {},
   "source": [
    "** Задача 10. ** Сформировать словарь синонимов. В качестве ключевого слова взять самое короткое слово из синонимичного ряда."
   ]
  },
  {
   "cell_type": "code",
   "execution_count": 3,
   "metadata": {
    "collapsed": false
   },
   "outputs": [
    {
     "name": "stdout",
     "output_type": "stream",
     "text": [
      "язык язычок, человек гомо_сапиенс, язычок язычина,язычишко язычище, язычишко звякало, гомо_сапиенс мыслящий_тростник, человек рожденный_женщиной, язык язычишко, царь_природы мыслящий_тростник, язычишко метла, рожденный_женщиной венец_творения, человек смертный\n"
     ]
    }
   ],
   "source": [
    "string = 'язык язычок, человек гомо_сапиенс, язычок язычина,язычишко язычище, язычишко звякало, гомо_сапиенс мыслящий_тростник, человек рожденный_женщиной, язык язычишко, царь_природы мыслящий_тростник, язычишко метла, рожденный_женщиной венец_творения, человек смертный'\n",
    "print(string)"
   ]
  },
  {
   "cell_type": "code",
   "execution_count": 4,
   "metadata": {
    "collapsed": false
   },
   "outputs": [],
   "source": [
    "def synon_dict(input_str):\n",
    "    dictionary={}\n",
    "    for word in input_str.split(','):\n",
    "        word_list=word.split()\n",
    "        i=word_list.index(min(word_list,key=len))\n",
    "        dictionary.setdefault(word_list[i],word_list[1-i])\n",
    "    return dictionary"
   ]
  },
  {
   "cell_type": "code",
   "execution_count": 5,
   "metadata": {
    "collapsed": false
   },
   "outputs": [
    {
     "name": "stdout",
     "output_type": "stream",
     "text": [
      "{'язык': 'язычок', 'человек': 'гомо_сапиенс', 'язычок': 'язычина', 'язычище': 'язычишко', 'звякало': 'язычишко', 'гомо_сапиенс': 'мыслящий_тростник', 'царь_природы': 'мыслящий_тростник', 'метла': 'язычишко', 'венец_творения': 'рожденный_женщиной'}\n"
     ]
    }
   ],
   "source": [
    "print(synon_dict(string))"
   ]
  }
 ],
 "metadata": {
  "kernelspec": {
   "display_name": "Python 3",
   "language": "python",
   "name": "python3"
  },
  "language_info": {
   "codemirror_mode": {
    "name": "ipython",
    "version": 3
   },
   "file_extension": ".py",
   "mimetype": "text/x-python",
   "name": "python",
   "nbconvert_exporter": "python",
   "pygments_lexer": "ipython3",
   "version": "3.6.0"
  }
 },
 "nbformat": 4,
 "nbformat_minor": 2
}
